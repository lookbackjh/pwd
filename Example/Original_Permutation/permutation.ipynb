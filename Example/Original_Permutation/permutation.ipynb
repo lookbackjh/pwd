{
 "cells": [
  {
   "attachments": {},
   "cell_type": "markdown",
   "metadata": {},
   "source": [
    "## 1. Introduction\n",
    "\n",
    "As our code in main is written for the synthetic data and have done meta-permuation instead of original permutation We are going to give tutorial for how to do a original permutation.  "
   ]
  },
  {
   "cell_type": "code",
   "execution_count": 2,
   "metadata": {},
   "outputs": [],
   "source": [
    "import sys\n",
    "import os\n",
    "sys.path.append(os.path.dirname(os.path.abspath(os.path.dirname(os.path.abspath(os.path.dirname('pwd'))))))"
   ]
  },
  {
   "attachments": {},
   "cell_type": "markdown",
   "metadata": {},
   "source": [
    "## 2. Get dataset\n",
    "Get dataset with OTU counts or Normalized-OTU counts(We've used TSS normalization) for various taxa level(in this case, we've used phylum level )"
   ]
  },
  {
   "cell_type": "code",
   "execution_count": 3,
   "metadata": {},
   "outputs": [],
   "source": [
    "import copy\n",
    "import numpy as np\n",
    "import math\n",
    "## an implementation for TSS normalization \n",
    "def datatransformation(w1):\n",
    "    w2=copy.deepcopy(w1)\n",
    "    n,d=np.shape(w2)\n",
    "    if n==1:\n",
    "         for j in range(d):\n",
    "            if w2[0][j]==0:\n",
    "                w2[0][j]=0\n",
    "            else:\n",
    "                w2[0][j]=math.log2(w2[0][j])\n",
    "    else:\n",
    "        for i in range(n):\n",
    "            for j in range(d):\n",
    "                if w2[i][j]==0:\n",
    "                    w2[i][j]=0\n",
    "                else:\n",
    "                    w2[i][j]=math.log2(w2[i][j])\n",
    "    return w2"
   ]
  },
  {
   "cell_type": "code",
   "execution_count": 4,
   "metadata": {},
   "outputs": [],
   "source": [
    "import pandas as pd\n",
    "import copy\n",
    "\n",
    "xls = pd.ExcelFile('16A13800.xlsx')\n",
    "xls2=pd.ExcelFile('3687A580.xlsx')\n",
    "df = pd.read_excel(xls, 'Phylum%') ## in our case the data is given with percentile\n",
    "\n",
    "feat = pd.read_excel(xls2, 'phylumabsenceratio') ## gets the absence ration that is priorly known, make it over than 1 if not known, and if it is not known, use data's absence ratio for estimation.  \n",
    "feat_info=((feat['Unnamed: 1']).to_numpy())\n",
    "\n",
    "\n",
    "df1=df.drop(df.columns[61:],axis=1)\n",
    "n=df1.shape[1]\n",
    "df1.columns= [i for i in range(n)]\n",
    "x=[i%3 +1 for i in range(n) ]\n",
    "t=['week']\n",
    "for i in range(len(x)-1):\n",
    "    t.append(x[i])\n",
    "## add week row \n",
    "df1.loc[702]=t\n",
    "df1=df1.drop(df1.index[5])\n",
    "df1=df1.transpose()\n",
    "df1= df1.rename(columns=df1.iloc[0])\n",
    "df1=df1.drop(df1.index[0])\n",
    "vacteriainfo=df1.columns[5:50]\n",
    "# print(vacteriainfo)\n",
    "vacdf=df1[vacteriainfo]\n",
    "\n",
    "vacdf.index.name='prob'\n"
   ]
  },
  {
   "attachments": {},
   "cell_type": "markdown",
   "metadata": {},
   "source": [
    "## 3. Do Permuation \n",
    "you can set various hyperparameters for choosing. "
   ]
  },
  {
   "cell_type": "code",
   "execution_count": 5,
   "metadata": {},
   "outputs": [],
   "source": [
    "import argparse\n",
    "parser = argparse.ArgumentParser(description='Args Sparse Simulation')\n",
    "parser.add_argument('--p_num', type=int, default=10, help='num ber of permutation')\n",
    "parser.add_argument('--x_grid_start',type=int, default=1,help='start of the x-axis')\n",
    "parser.add_argument('--x_grid_end',type=int, default=20,help='end of the x-axis')\n",
    "parser.add_argument('--same_ratio',type=int, default=90,help='Difference ratio for each group') ## only can choose 50,90, 100\n",
    "parser.add_argument('--interval',type=float,default=0.1,help='interval for x-axis' )\n",
    "parser.add_argument('--epsilon',type=float,default=0.0001,help='to_avoid zero division')\n",
    "args, _ = parser.parse_known_args()"
   ]
  },
  {
   "cell_type": "code",
   "execution_count": 6,
   "metadata": {},
   "outputs": [
    {
     "name": "stderr",
     "output_type": "stream",
     "text": [
      "  0%|          | 0/10 [00:00<?, ?it/s]"
     ]
    },
    {
     "name": "stdout",
     "output_type": "stream",
     "text": [
      "Distance of Original Data :0.426828756604192\n"
     ]
    },
    {
     "name": "stderr",
     "output_type": "stream",
     "text": [
      "100%|██████████| 1/1 [00:04<00:00,  4.55s/it]\n",
      " 10%|█         | 1/10 [00:09<01:21,  9.07s/it]"
     ]
    },
    {
     "name": "stdout",
     "output_type": "stream",
     "text": [
      "Distance for iteration1 0.03479169695926313\n",
      "Distance of Original Data :0.29019551985346875\n"
     ]
    },
    {
     "name": "stderr",
     "output_type": "stream",
     "text": [
      "100%|██████████| 1/1 [00:04<00:00,  4.35s/it]\n",
      " 20%|██        | 2/10 [00:17<01:11,  8.89s/it]"
     ]
    },
    {
     "name": "stdout",
     "output_type": "stream",
     "text": [
      "Distance for iteration1 14.000718700043782\n",
      "Distance of Original Data :0.4836905354570366\n"
     ]
    },
    {
     "name": "stderr",
     "output_type": "stream",
     "text": [
      "100%|██████████| 1/1 [00:04<00:00,  4.47s/it]\n",
      " 30%|███       | 3/10 [00:26<01:02,  8.90s/it]"
     ]
    },
    {
     "name": "stdout",
     "output_type": "stream",
     "text": [
      "Distance for iteration1 0.05919835960113746\n",
      "Distance of Original Data :0.36117891669808716\n"
     ]
    },
    {
     "name": "stderr",
     "output_type": "stream",
     "text": [
      "100%|██████████| 1/1 [00:04<00:00,  4.56s/it]\n",
      " 40%|████      | 4/10 [00:36<00:54,  9.12s/it]"
     ]
    },
    {
     "name": "stdout",
     "output_type": "stream",
     "text": [
      "Distance for iteration1 0.2809093275057925\n",
      "Distance of Original Data :0.426828756604192\n"
     ]
    },
    {
     "name": "stderr",
     "output_type": "stream",
     "text": [
      "100%|██████████| 1/1 [00:06<00:00,  6.72s/it]\n",
      " 50%|█████     | 5/10 [00:48<00:50, 10.19s/it]"
     ]
    },
    {
     "name": "stdout",
     "output_type": "stream",
     "text": [
      "Distance for iteration1 0.3968482589729362\n",
      "Distance of Original Data :0.29019551985346875\n"
     ]
    },
    {
     "name": "stderr",
     "output_type": "stream",
     "text": [
      "100%|██████████| 1/1 [00:05<00:00,  5.22s/it]\n",
      " 60%|██████    | 6/10 [00:59<00:42, 10.57s/it]"
     ]
    },
    {
     "name": "stdout",
     "output_type": "stream",
     "text": [
      "Distance for iteration1 0.3086620792052936\n",
      "Distance of Original Data :0.44636825767219024\n"
     ]
    },
    {
     "name": "stderr",
     "output_type": "stream",
     "text": [
      "100%|██████████| 1/1 [00:04<00:00,  4.85s/it]\n",
      " 70%|███████   | 7/10 [01:09<00:31, 10.43s/it]"
     ]
    },
    {
     "name": "stdout",
     "output_type": "stream",
     "text": [
      "Distance for iteration1 0.1752199411566252\n",
      "Distance of Original Data :0.44636825767219024\n"
     ]
    },
    {
     "name": "stderr",
     "output_type": "stream",
     "text": [
      "100%|██████████| 1/1 [00:04<00:00,  4.73s/it]\n",
      " 80%|████████  | 8/10 [01:19<00:20, 10.10s/it]"
     ]
    },
    {
     "name": "stdout",
     "output_type": "stream",
     "text": [
      "Distance for iteration1 0.3245385437068182\n",
      "Distance of Original Data :0.36117891669808716\n"
     ]
    },
    {
     "name": "stderr",
     "output_type": "stream",
     "text": [
      "100%|██████████| 1/1 [00:04<00:00,  4.70s/it]\n",
      " 90%|█████████ | 9/10 [01:28<00:10, 10.01s/it]"
     ]
    },
    {
     "name": "stdout",
     "output_type": "stream",
     "text": [
      "Distance for iteration1 1.1181171767344225\n",
      "Distance of Original Data :0.5468079275209426\n"
     ]
    },
    {
     "name": "stderr",
     "output_type": "stream",
     "text": [
      "100%|██████████| 1/1 [00:04<00:00,  4.35s/it]\n",
      "100%|██████████| 10/10 [01:37<00:00,  9.77s/it]"
     ]
    },
    {
     "name": "stdout",
     "output_type": "stream",
     "text": [
      "Distance for iteration1 0.1012103233796752\n",
      "$p$-value for feature 1 is 0.0\n",
      "$p$-value for feature 2 is 1.0\n",
      "$p$-value for feature 3 is 0.0\n",
      "$p$-value for feature 4 is 0.0\n",
      "$p$-value for feature 5 is 0.0\n",
      "$p$-value for feature 6 is 1.0\n",
      "$p$-value for feature 7 is 0.0\n",
      "$p$-value for feature 8 is 0.0\n",
      "$p$-value for feature 9 is 1.0\n",
      "$p$-value for feature 10 is 0.0\n"
     ]
    },
    {
     "name": "stderr",
     "output_type": "stream",
     "text": [
      "\n"
     ]
    },
    {
     "data": {
      "image/png": "[encoded data removed]",
      "text/plain": [
       "<Figure size 640x480 with 1 Axes>"
      ]
     },
     "metadata": {},
     "output_type": "display_data"
    }
   ],
   "source": [
    "import math\n",
    "import numpy as np\n",
    "import matplotlib.pylab as plt\n",
    "from src.Util import Permutator\n",
    "import time\n",
    "from tqdm import tqdm\n",
    "## week 1 data\n",
    "df_week1=df1[df1['week']==1]\n",
    "df_week1=df_week1[vacteriainfo]\n",
    "#df_week1 = df_week1.drop(['candidate_division_WPSUnclassified1', 'candidate_division_WPSUnclassified2'], axis=1)\n",
    "#print(df_week1.columns)\n",
    "## week 2 data\n",
    "df_week2=df1[df1['week']==2]\n",
    "df_week2=df_week2[vacteriainfo]\n",
    "probdata1=df_week1.transpose().to_numpy()\n",
    "probdata2=df_week2.transpose().to_numpy()\n",
    "probdata1=probdata1.astype(np.float32)\n",
    "probdata2=probdata2.astype(np.float32)\n",
    "probdata1=datatransformation(probdata1)\n",
    "probdata2=datatransformation(probdata2)\n",
    "feat_info=np.zeros(12)\n",
    "\n",
    "w1=np.negative(probdata1)\n",
    "w2=np.negative(probdata2)\n",
    "#print((w1))\n",
    "\n",
    "pvals=[]\n",
    "for i in tqdm(range(10)):\n",
    "    p=Permutator(w1[0,:].reshape(1,20),w2[0,:].reshape(1,20), np.array([feat_info[i]]),args )\n",
    "    pvals.append(p.permutation())\n",
    "import sys\n",
    "\n",
    "#sys.stdout = open('result.txt', 'w')\n",
    "\n",
    "for i in range(10):\n",
    "    print(\"$p$-value for feature {} is {}\".format(i+1,pvals[i]))\n",
    "\n",
    "#sys.stdout.close()"
   ]
  }
 ],
 "metadata": {
  "kernelspec": {
   "display_name": "sudal",
   "language": "python",
   "name": "python3"
  },
  "language_info": {
   "codemirror_mode": {
    "name": "ipython",
    "version": 3
   },
   "file_extension": ".py",
   "mimetype": "text/x-python",
   "name": "python",
   "nbconvert_exporter": "python",
   "pygments_lexer": "ipython3",
   "version": "3.10.9"
  },
  "orig_nbformat": 4
 },
 "nbformat": 4,
 "nbformat_minor": 2
}
