{
 "cells": [
  {
   "attachments": {},
   "cell_type": "markdown",
   "metadata": {},
   "source": [
    "## Meta Analysis"
   ]
  },
  {
   "attachments": {},
   "cell_type": "markdown",
   "metadata": {},
   "source": [
    "### 1. Create Dataset\n",
    "If you already have a dataset, you do not have to follow this section, we are going to show how the simulation will be done."
   ]
  },
  {
   "cell_type": "code",
   "execution_count": 2,
   "metadata": {},
   "outputs": [],
   "source": [
    "import sys\n",
    "import os\n",
    "sys.path.append(os.path.dirname(os.path.abspath(os.path.dirname(os.path.abspath(os.path.dirname('pwd'))))))"
   ]
  },
  {
   "cell_type": "code",
   "execution_count": 3,
   "metadata": {},
   "outputs": [],
   "source": [
    "\n",
    "import pandas as pd\n",
    "import numpy as np\n",
    "def seed_everything(seed):\n",
    "    np.random.seed(seed)\n",
    "    # torch.manual_seed(seed)\n",
    "    # torch.cuda.manual_seed(seed)\n",
    "    # torch.cuda.manual_seed_all(seed)\n",
    "    os.environ['PYTHONHASHSEED'] = str(seed)\n",
    "\n",
    "    # torch.backends.cudnn.deterministic = True\n",
    "    # torch.backends.cudnn.benchmark = False\n",
    "    # torch.backends.cudnn.enabled = False\n",
    "    # torch.use_deterministic_algorithms(True)\n",
    "\n",
    "\n",
    "\n",
    "seed=1337\n",
    "seed_everything(seed)"
   ]
  },
  {
   "cell_type": "code",
   "execution_count": 4,
   "metadata": {},
   "outputs": [],
   "source": [
    "import argparse\n",
    "parser = argparse.ArgumentParser(description='Args Sparse Simulation')\n",
    "parser.add_argument('--p_num', type=int, default=10, help='num ber of permutation')\n",
    "parser.add_argument('--x_grid_start',type=int, default=1,help='start of the x-axis')\n",
    "parser.add_argument('--x_grid_end',type=int, default=20,help='end of the x-axis')\n",
    "parser.add_argument('--same_ratio',type=int, default=90,help='Difference ratio for each group') ## only can choose 50,90, 100\n",
    "parser.add_argument('--interval',type=float,default=0.1,help='interval for x-axis' )\n",
    "parser.add_argument('--epsilon',type=float,default=0.0001,help='to_avoid zero division')\n",
    "args, _ = parser.parse_known_args()\n",
    "\n",
    "# please decrease the ratio of the first half by 0.5 and increase the ratio for decreased amount to the second half\n",
    "beta=0.7\n",
    "# randomly select the number of microiomes to change the ratio\n",
    "num_microbiomes_to_change=200\n",
    "# sort\n",
    "sort_option=False\n",
    "\n",
    "\n",
    "\n",
    "otu=pd.read_csv(\"throatotu_csv.csv\")\n",
    "\n",
    "otu['x']\n",
    "# drop three most abundant species\n",
    "\n",
    "#sort \n",
    "otu=otu.sort_values(by='x',ascending=False)\n",
    "otu=otu.iloc[3:]\n",
    "\n",
    "\n",
    "\n",
    "# divide by sum of the row\n",
    "ratio=otu['x']/otu['x'].sum()\n",
    "\n",
    "\n",
    "# randomly select the microbiomes to change the ratio\n",
    "ratio=ratio.to_numpy()\n",
    "if sort_option ==False:\n",
    "    # sort ratio\n",
    "    np.random.shuffle(ratio)\n",
    "\n",
    "\n",
    "\n",
    "\n",
    "ratio_to_change=ratio[:num_microbiomes_to_change]\n",
    "ratio_to_change\n",
    "ratio_fixed=ratio[num_microbiomes_to_change:]\n",
    "\n",
    "decreased=ratio_to_change[:int(len(ratio_to_change)/2)]-ratio_to_change[:int(len(ratio_to_change)/2)]*beta\n",
    "\n",
    "ratio_change_first_half=ratio[:int(len(ratio_to_change)/2)]-decreased\n",
    "ratio_second_half=ratio_to_change[int(len(ratio_to_change)/2):]\n",
    "increased=np.zeros(len(ratio_second_half))\n",
    "sum_ratio_second_half=ratio_second_half.sum()   \n",
    "\n",
    "for i in range(len(ratio_second_half)):\n",
    "\n",
    "    increased[i]=(decreased.sum()*ratio_second_half[i])/sum_ratio_second_half\n",
    "# distribute the increased ratio to the second half with equivalent to \n",
    "\n",
    "ratio_second_half=ratio_to_change[int(len(ratio_to_change)/2):]+increased\n",
    "\n",
    "g1_param=ratio\n",
    "g_changed=np.concatenate([ratio_change_first_half,ratio_second_half])\n",
    "g2_param=np.concatenate([g_changed,ratio_fixed])\n"
   ]
  },
  {
   "cell_type": "markdown",
   "metadata": {},
   "source": [
    "Now, the parameters for generating samples for each group have been made. \n",
    "for g1, and g2 , Now using dirichlet distribution, we try to generate samples. \n",
    "We have to choose overdispersion parameter $\\theta$ \n"
   ]
  },
  {
   "cell_type": "code",
   "execution_count": 5,
   "metadata": {},
   "outputs": [],
   "source": [
    "theta=0.0001 # overdispersion parameter\n",
    "num_samples=50 # number of samples.  this will be a major paramter. \n",
    "\n",
    "g1=np.random.dirichlet(g1_param*(1/theta),size=1)\n",
    "g2=np.random.dirichlet(g2_param*(1/theta), size=1)\n",
    "# s\n",
    "#create count poisson\n",
    "g1_count_total=np.random.poisson(10000.0,num_samples)\n",
    "g2_count_total=np.random.poisson(10000.0,num_samples)\n",
    "\n",
    "#what i watn to do is get dividing rowwise summation\n",
    "# g1_normalized = g1_count / g1_count.sum(axis=1)[:, np.newaxis]\n",
    "# g2_normalized = g2_count / g2_count.sum(axis=1)[:, np.newaxis]\n",
    "g1_count=np.zeros((num_samples,len(g1_param)))\n",
    "g2_count=np.zeros((num_samples,len(g2_param)))\n",
    "\n",
    "for i in range(num_samples):\n",
    "    g1_count[i]=np.random.multinomial(g1_count_total[i],g1[0])\n",
    "    g2_count[i]=np.random.multinomial(g2_count_total[i],g2[0])\n",
    "\n",
    "g1_normalized = g1_count / g1_count.sum(axis=1)[:, np.newaxis]\n",
    "g2_normalized = g2_count / g2_count.sum(axis=1)[:, np.newaxis]\n",
    "\n",
    "epsilon = 1e-10  # Small constant to avoid log(0)\n",
    "g1_entropy = np.where(g1_normalized > 0.0001, -np.log(g1_normalized ), 0)\n",
    "g2_entropy = np.where(g2_normalized > 0.0001, -np.log(g2_normalized ), 0)\n",
    "\n",
    "g1_entropy = g1_entropy.T\n",
    "g2_entropy = g2_entropy.T"
   ]
  },
  {
   "cell_type": "code",
   "execution_count": 6,
   "metadata": {},
   "outputs": [],
   "source": [
    "for i in range(num_samples):\n",
    "    g1_count[i]=np.random.multinomial(g1_count_total[i],g1[0])\n",
    "    g2_count[i]=np.random.multinomial(g2_count_total[i],g2[0])\n",
    "\n",
    "g1_normalized = g1_count / g1_count.sum(axis=1)[:, np.newaxis]\n",
    "g2_normalized = g2_count / g2_count.sum(axis=1)[:, np.newaxis]\n",
    "\n"
   ]
  },
  {
   "attachments": {},
   "cell_type": "markdown",
   "metadata": {},
   "source": [
    "### 2. Finding bandwidth for each feature\n",
    "then, you select one group to find some relationship between standard deviation that data itself have. \n",
    "by calling the function ```finddistribution```, you can obtain the bandwidth for each feature. "
   ]
  },
  {
   "cell_type": "code",
   "execution_count": 10,
   "metadata": {},
   "outputs": [],
   "source": [
    "from src.Grouping import Groupinfo\n",
    "x_grid=np.arange(0,15,0.1)\n",
    "feat_info=np.zeros(g1_entropy.shape[0])\n",
    "feat_info+=1 ## as this is simulated  case, you cannot consider the prior-posterior case. \n",
    "t1=Groupinfo(g1_entropy)\n",
    "t1.finddistribution(x_grid,epsilon=0.0001,feat_info=feat_info)"
   ]
  },
  {
   "attachments": {},
   "cell_type": "markdown",
   "metadata": {},
   "source": [
    "then by using the defined functions, you can get the sigma and bandwidth for the generated case. "
   ]
  },
  {
   "cell_type": "code",
   "execution_count": 11,
   "metadata": {},
   "outputs": [],
   "source": [
    "bw=np.array(t1.group_bandwidth)\n",
    "sig=np.sqrt(np.array(t1.getsigma()))\n",
    "from matplotlib import pyplot as plt"
   ]
  },
  {
   "cell_type": "code",
   "execution_count": 12,
   "metadata": {},
   "outputs": [
    {
     "data": {
      "text/plain": [
       "array([0.5, 8.9, 0. , 0. , 0. , 1.9, 3.9, 0. , 0.7, 8.9, 0.7, 8.9, 0.5,\n",
       "       0. , 0.1, 8.9, 1.4, 1.3, 0.1, 2.8, 0.8, 0.6, 0.5, 0.1, 0.9, 0.9,\n",
       "       1.3, 1.9, 0.5, 8.9, 0.5, 0.8, 0.3, 8.9, 2.4, 0.7, 0. , 1.5, 0.8,\n",
       "       0.8, 8.9, 1.4, 0.1, 0.8, 0.8, 0.1, 0. , 5.5, 0.7, 8.9, 0.8, 2.3,\n",
       "       0.8, 0. , 2.8, 1.1, 8.9, 8.9, 0.2, 0. , 2.5, 8.9, 8.6, 0.8, 2.2,\n",
       "       1.2, 1. , 1.9, 0.1, 0.8, 0.8, 0. , 0.1, 8.9, 0. , 0. , 1.3, 0.7,\n",
       "       4.7, 0.1, 0.7, 0.8, 0.9, 0.8, 2.8, 0.7, 0. , 0. , 0.1, 1.7, 0.8,\n",
       "       0. , 0. , 1.1, 2.7, 0. , 0.9, 0. , 1.2, 8.9, 0.2, 0.7, 1.4, 0.6,\n",
       "       8.9, 0.8, 1.2, 1.3, 1.6, 0. , 0. , 0.9, 0. , 0.1, 0.1, 1.1, 1.1,\n",
       "       0. , 0.7, 0.5, 8.3, 0.1, 0.8, 1.7, 0. , 0.6, 0.8, 0.1, 0.1, 0. ,\n",
       "       0.1, 0.7, 0.4, 8.9, 4.8, 0. , 1. , 8.8, 0.1, 8.9, 1.5, 0.8, 0. ,\n",
       "       8.9, 8.9, 0.1, 0.7, 4.2, 0.7, 0.5, 8.9, 0.1, 3.2, 0.1, 0.1, 0. ,\n",
       "       3.6, 1. , 0.6, 0.4, 0.5, 1.5, 8.9, 1.1, 1.8, 2.9, 0. , 0.8, 0. ,\n",
       "       4.7, 0. , 0. , 1.2, 0.1, 2.4, 0. , 0.8, 1.1, 1.9, 0.1, 0. , 0. ,\n",
       "       0.8, 1. , 0.8, 1.4, 0.6, 0.8, 0.9, 0.8, 1.2, 0.1, 3.3, 0.1, 0.4,\n",
       "       1.7, 1.3, 1.3, 8.9, 8.9, 8.9, 2.2, 0.7, 0. , 1.7, 0.6, 0.8, 0. ,\n",
       "       0. , 0.7, 8.9, 0.7, 1.7, 1.4, 1. , 6.6, 0. , 8.9, 2.7, 0.7, 0.9,\n",
       "       2. , 0.6, 0.6, 8.9, 0.5, 0. , 1.1, 8.9, 1.1, 0.6, 8.9, 1.4, 0.6,\n",
       "       0.9, 0.6, 0.8, 0.1, 3.7, 0. , 4.3, 1.8, 0.7, 1.1, 0.8, 8.8, 0.1,\n",
       "       0. , 8.9, 1.2, 0.8, 0.1, 1.1, 2.1, 2.4, 0. , 0.9, 1.5, 0.8, 0.8,\n",
       "       1.3, 0. , 8.9, 0. , 0.9, 0.1, 1.4, 0.8, 0.7, 5.7, 0.1, 0.7, 1.2,\n",
       "       2.9, 1.1, 0. , 8.5, 2.9, 8.9, 1.5, 0.4, 0.7, 1. , 8.9, 1.3, 0.1,\n",
       "       1.1, 1. , 8.9, 0.8, 1.9, 0.7, 0.7, 0.9, 1.9, 1.1, 0.7, 0.9, 0.8,\n",
       "       1.1, 0. , 0.8, 0.9, 1.2, 8.9, 0.9, 0.1, 0.8, 0. , 0.1, 1.1, 1.3,\n",
       "       0.8, 3. , 1.1, 1. , 8.9, 2.3, 0. , 0. , 8.9, 0. , 2.7, 0. , 0. ,\n",
       "       0.7, 0.7, 2.9, 2.1, 8.9, 8.9, 1.6, 0. , 8.9, 8.9, 1.6, 0.1, 1.7,\n",
       "       8.9, 1.7, 0. , 0.6, 5.7, 3.7, 7. , 3.2, 0.5, 0. , 0. , 0. , 0. ,\n",
       "       8.2, 8.9, 1.4, 0. , 0.7, 0.8, 0.9, 8.9, 0.8, 0. , 1.2, 5.2, 1.2,\n",
       "       0.9, 8.9, 2.3, 0.6, 0. , 0.8, 2.7, 0.1, 0.9, 1. , 2.6, 2. , 1. ,\n",
       "       2.2, 0.9, 0. , 0. , 1. , 0. , 8.9, 0. , 8.6, 0.1, 0.5, 8.9, 1.3,\n",
       "       0. , 2.5, 8.9, 2.9, 0. , 0. , 0.9, 0. , 8.9, 0.7, 0. , 8.9, 1. ,\n",
       "       0.8, 0. , 0.8, 3.5, 8.9, 0.8, 0. , 0.9, 0.6, 0.5, 5.6, 0. , 0. ,\n",
       "       0.1, 8.9, 0.1, 0. , 0.8, 0. , 3.1, 0. , 8.9, 1. , 8.9, 2.3, 1.3,\n",
       "       0.4, 1.8, 0.1, 2.2, 0.1, 0.8, 0.8, 2.7, 3. , 0.1, 3.1, 8.8, 8.9,\n",
       "       0.8, 3.7, 2.6, 0.8, 0.8, 1.1, 4. , 0.1, 1.6, 2.3, 0.6, 0.6, 1.1,\n",
       "       0.1, 1.6, 1.4, 0.1, 8.9, 3.2, 0. , 0.1, 4.9, 1. , 0.5, 0. , 1.4,\n",
       "       0. , 1.5, 1. , 1.6, 0.1, 1.6, 8.8, 1.1, 0. , 0. , 8.9, 8.9, 3. ,\n",
       "       0.9, 0. , 0.1, 0.5, 8.9, 8.9, 0. , 0. , 1.4, 0. , 0.1, 1. , 0.9,\n",
       "       0. , 8.9, 0.7, 1.1, 8.6, 0. , 2.3, 5.5, 0.7, 1. , 1.3, 1.8, 0.6,\n",
       "       6.4, 1.7, 0. , 1.8, 1.5, 0. , 3.9, 0. , 0.9, 0. , 0.8, 8.9, 1. ,\n",
       "       0. , 0.9, 0.1, 8.9, 0.7, 1. , 0.9, 0.1, 0.8, 0.6, 0. , 8.9, 0. ,\n",
       "       1.7, 0.7, 1.8, 0.8, 2.9, 1.6, 0. , 1.6, 0.3, 0. , 1.2, 0. , 4.4,\n",
       "       0.2, 0. , 0.7, 0.9, 3.9, 2.9, 0.8, 0.1, 2.7, 0.4, 0.8, 1.7, 7.8,\n",
       "       1.4, 0.1, 1.7, 0. , 0. , 0.6, 1.9, 1. , 1.1, 8.9, 1.4, 1.2, 2. ,\n",
       "       1.5, 3.3, 0.9, 8.9, 0.8, 1.4, 0.8, 1.4, 0.7, 3.5, 0. , 0.1, 0. ,\n",
       "       0.1, 2.5, 0. , 0.8, 0.4, 8.9, 0. , 0.9, 3. , 1.2, 3. , 0.1, 0.5,\n",
       "       2.7, 0.8, 6.8, 0.1, 1.3, 0.6, 8.9, 1.1, 0.7, 0.5, 0.1, 8.9, 8.9,\n",
       "       0.8, 0.1, 0.8, 2.8, 1.4, 8.9, 2.5, 0. , 1.7, 2.4, 0. , 8.8, 8.9,\n",
       "       2. , 0.8, 0.9, 3.8, 0. , 1.4, 0. , 2.6, 3.6, 0.8, 0.8, 0.5, 0.1,\n",
       "       8.9, 2.3, 0.9, 0.1, 0.7, 0. , 8.8, 8.9, 0. , 8.9, 0.3, 0.1, 0.7,\n",
       "       1.7, 4.6, 0. , 1.4, 0. , 2.9, 0.8, 0.9, 2.9, 0.1, 8.9, 1.2, 1.5,\n",
       "       0.8, 1.5, 0.8, 0.9, 0.8, 1. , 1.2, 1.1, 0.1, 0.9, 1. , 0.5, 0. ,\n",
       "       0.1, 0. , 1.6, 1.6, 0. , 0. , 1. , 2.2, 2.1, 0. , 0.1, 0.9, 0.8,\n",
       "       0.6, 2.6, 0.1, 0. , 0.6, 2.7, 4.9, 2.2, 1.3, 2. , 0.8, 0.1, 0.9,\n",
       "       0.1, 1.2, 0.2, 0.8, 3.4, 5.7, 0.7, 5.2, 0.4, 0. , 0.9, 2.1, 0.1,\n",
       "       3.4, 0.8, 8.9, 0.9, 0. , 0.1, 2.2, 1.7, 0. , 3.3, 4.5, 8.9, 3.3,\n",
       "       2.1, 0.1, 1.4, 0.1, 2.7, 0. , 0.9, 8.9, 0.8, 8.9, 1.9, 1.4, 0. ,\n",
       "       5.5, 1.7, 0.1, 3. , 0.9, 0. , 1.7, 0. , 0.1, 0. , 3. , 0. , 0. ,\n",
       "       2.7, 0.4, 0. , 0.1, 1.6, 0. , 0. , 0.8, 2.2, 0.4, 0. , 0.1, 8.9,\n",
       "       2.2, 0.8, 1.1, 0.4, 1.2, 0.1, 2.6, 4.4, 0.1, 0.8, 0.7, 0. , 3.7,\n",
       "       0. , 0.1, 3. , 8.9, 0.9, 5.1, 0.7, 0.1, 0.1, 0. , 1.3, 3.3, 1.6,\n",
       "       8. , 0.1, 0.8, 4.4, 0.1, 0.1, 8.9, 0. , 1.2, 0. , 1. , 3. , 0.1,\n",
       "       0. , 0.1, 1. , 0. , 1.2, 2.5, 0.9, 3.1, 0.1, 0. , 0.1, 0. , 0. ,\n",
       "       1.4, 2.4, 0.5, 1.1, 8.9, 1.2, 0. , 0.1, 3.3, 0.9, 1.3, 0. , 2. ,\n",
       "       0.8, 0. , 0.8, 8.9, 0.7, 3.4, 0.8, 1.7, 0. , 0.7, 0.6, 0.8, 0.7,\n",
       "       0.6, 2.1, 8.9, 1. , 1.8, 1.2, 1. , 0.9])"
      ]
     },
     "execution_count": 12,
     "metadata": {},
     "output_type": "execute_result"
    }
   ],
   "source": [
    "bw"
   ]
  },
  {
   "attachments": {},
   "cell_type": "markdown",
   "metadata": {},
   "source": [
    "this is a scatter of randomly generated data"
   ]
  },
  {
   "cell_type": "code",
   "execution_count": 13,
   "metadata": {},
   "outputs": [
    {
     "data": {
      "text/plain": [
       "<matplotlib.collections.PathCollection at 0x795379165090>"
      ]
     },
     "execution_count": 13,
     "metadata": {},
     "output_type": "execute_result"
    },
    {
     "data": {
      "image/png": "[encoded data removed]",
      "text/plain": [
       "<Figure size 640x480 with 1 Axes>"
      ]
     },
     "metadata": {},
     "output_type": "display_data"
    }
   ],
   "source": [
    "plt.scatter(sig,bw)"
   ]
  },
  {
   "attachments": {},
   "cell_type": "markdown",
   "metadata": {},
   "source": [
    "now based on the plot's structure you can eiter fit log or polynomial regression to the data. "
   ]
  },
  {
   "cell_type": "code",
   "execution_count": 20,
   "metadata": {},
   "outputs": [],
   "source": [
    "model = np.poly1d(np.polyfit(sig, bw, 1))\n",
    "coef=model.coefficients\n",
    "x_grid=np.arange(0,5,0.1)"
   ]
  },
  {
   "cell_type": "code",
   "execution_count": 22,
   "metadata": {},
   "outputs": [
    {
     "data": {
      "text/plain": [
       "<matplotlib.legend.Legend at 0x795356f8f280>"
      ]
     },
     "execution_count": 22,
     "metadata": {},
     "output_type": "execute_result"
    },
    {
     "data": {
      "image/png": "[encoded data removed]",
      "text/plain": [
       "<Figure size 640x480 with 1 Axes>"
      ]
     },
     "metadata": {},
     "output_type": "display_data"
    }
   ],
   "source": [
    "plt.scatter(sig,bw)\n",
    "plt.xlabel('$\\sigma$')\n",
    "plt.ylabel('bandwidth')\n",
    "#plt.plot(x_grid,((x_grid**2)*coef[0]+(x_grid)*coef[1]+coef[2]),color='r',label='${}x^2$${}x$+{}'.format(round(coef[0],2),round(coef[1],2),round(coef[2],2)))\n",
    "#polyfit linear plot\n",
    "plt.plot(x_grid,(x_grid)*coef[0]+coef[1],color='r',label='${}x$+{}'.format(round(coef[0],2),round(coef[1],2)))\n",
    "plt.legend()"
   ]
  },
  {
   "cell_type": "code",
   "execution_count": 23,
   "metadata": {},
   "outputs": [],
   "source": [
    "n50_bw=bw\n",
    "n50_sigma=sig\n",
    "\n",
    "# save as dataframe\n",
    "n50_df=pd.DataFrame({'bandwidth':n50_bw,'sigma':n50_sigma})\n",
    "n50_df.to_csv('n50_df.csv',index=False)\n",
    "\n"
   ]
  }
 ],
 "metadata": {
  "kernelspec": {
   "display_name": "sudal",
   "language": "python",
   "name": "python3"
  },
  "language_info": {
   "codemirror_mode": {
    "name": "ipython",
    "version": 3
   },
   "file_extension": ".py",
   "mimetype": "text/x-python",
   "name": "python",
   "nbconvert_exporter": "python",
   "pygments_lexer": "ipython3",
   "version": "3.10.12"
  },
  "orig_nbformat": 4
 },
 "nbformat": 4,
 "nbformat_minor": 2
}
